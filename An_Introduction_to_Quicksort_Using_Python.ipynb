{
  "nbformat": 4,
  "nbformat_minor": 0,
  "metadata": {
    "colab": {
      "provenance": [],
      "authorship_tag": "ABX9TyNLzcME9TsAl+CWjkuoeGzB",
      "include_colab_link": true
    },
    "kernelspec": {
      "name": "python3",
      "display_name": "Python 3"
    },
    "language_info": {
      "name": "python"
    }
  },
  "cells": [
    {
      "cell_type": "markdown",
      "metadata": {
        "id": "view-in-github",
        "colab_type": "text"
      },
      "source": [
        "<a href=\"https://colab.research.google.com/github/jman4162/machine-learning-review/blob/main/An_Introduction_to_Quicksort_Using_Python.ipynb\" target=\"_parent\"><img src=\"https://colab.research.google.com/assets/colab-badge.svg\" alt=\"Open In Colab\"/></a>"
      ]
    },
    {
      "cell_type": "markdown",
      "source": [
        "# An Introduction to Quicksort Using Python\n",
        "\n",
        "Quicksort is a highly efficient sorting algorithm and is based on the divide-and-conquer principle. It works by selecting a 'pivot' element from the array and partitioning the other elements into two sub-arrays, according to whether they are less than or greater than the pivot. The sub-arrays are then sorted recursively. This can be done in-place, requiring small additional amounts of memory to perform the sorting.\n",
        "\n",
        "## How Quicksort Works\n",
        "\n",
        "1. **Choose a Pivot**: Select an element from the array as the pivot (common strategies include choosing the first element, the last element, or a random element).\n",
        "2. **Partitioning**: Rearrange the array so that elements less than the pivot are on the left, the pivot is in the middle, and elements greater than the pivot are on the right.\n",
        "3. **Recursive Sort**: Recursively apply the same logic to the left and right sub-arrays surrounding the pivot.\n",
        "\n",
        "## Advantages of Quicksort\n",
        "\n",
        "- **Efficiency**: Quicksort is faster on average than other $O(n \\log n)$ algorithms like merge sort and heap sort.\n",
        "- **In-Place Sorting**: Uses very little extra memory, as the sorting takes place in the original array.\n",
        "\n",
        "## Disadvantages of Quicksort\n",
        "\n",
        "- **Worst-case Performance**: The worst-case time complexity is $O(n^2)$, which occurs when the partition process always picks the greatest or smallest element as the pivot.\n",
        "- **Unstable**: Quicksort does not preserve the relative order of equal sort items.\n",
        "\n",
        "## Comparison with Other Algorithms\n",
        "\n",
        "- **Merge Sort**: Unlike merge sort, quicksort does not require extra space for arrays but can be worse in worst-case scenarios.\n",
        "- **Heap Sort**: Heap sort has a guaranteed $O(n \\log n)$ performance but uses extra space and is typically slower in practice.\n",
        "\n",
        "# Quicksort Implementation with Performance Metrics\n",
        "\n",
        "Here's a Python implementation of quicksort, along with code to measure its runtime and memory usage:"
      ],
      "metadata": {
        "id": "KDtr3SWydIlS"
      }
    },
    {
      "cell_type": "code",
      "source": [
        "!pip install memory_profiler"
      ],
      "metadata": {
        "colab": {
          "base_uri": "https://localhost:8080/"
        },
        "id": "SsQxs2EFdetQ",
        "outputId": "4959448c-80a2-422e-a33d-57a015f321e4"
      },
      "execution_count": 13,
      "outputs": [
        {
          "output_type": "stream",
          "name": "stdout",
          "text": [
            "Requirement already satisfied: memory_profiler in /usr/local/lib/python3.10/dist-packages (0.61.0)\n",
            "Requirement already satisfied: psutil in /usr/local/lib/python3.10/dist-packages (from memory_profiler) (5.9.5)\n"
          ]
        }
      ]
    },
    {
      "cell_type": "code",
      "source": [
        "import time\n",
        "import random\n",
        "import sys\n",
        "from memory_profiler import profile"
      ],
      "metadata": {
        "id": "rY0-IZqQderF"
      },
      "execution_count": 14,
      "outputs": []
    },
    {
      "cell_type": "code",
      "execution_count": 15,
      "metadata": {
        "id": "Uz9LehL4dEkl"
      },
      "outputs": [],
      "source": [
        "def quicksort(arr):\n",
        "    if len(arr) <= 1:\n",
        "        return arr\n",
        "    else:\n",
        "        pivot = arr[len(arr) // 2]\n",
        "        left = [x for x in arr if x < pivot]\n",
        "        middle = [x for x in arr if x == pivot]\n",
        "        right = [x for x in arr if x > pivot]\n",
        "        return quicksort(left) + middle + quicksort(right)"
      ]
    },
    {
      "cell_type": "code",
      "source": [
        "@profile\n",
        "def run_quicksort():\n",
        "    size = 10000\n",
        "    arr = [random.randint(1, 1000) for _ in range(size)]\n",
        "    start_time = time.time()\n",
        "    sorted_arr = quicksort(arr)\n",
        "    end_time = time.time()\n",
        "    print(f\"Sorting {size} elements took {end_time - start_time:.6f} seconds\")"
      ],
      "metadata": {
        "id": "M-lCxBjDdpqu"
      },
      "execution_count": 16,
      "outputs": []
    },
    {
      "cell_type": "code",
      "source": [
        "run_quicksort()"
      ],
      "metadata": {
        "colab": {
          "base_uri": "https://localhost:8080/"
        },
        "id": "IdPOa_WYdrua",
        "outputId": "7b3b601b-32b4-4ab6-8101-487c98310bc2"
      },
      "execution_count": 17,
      "outputs": [
        {
          "output_type": "stream",
          "name": "stdout",
          "text": [
            "ERROR: Could not find file <ipython-input-16-a9f4ec59717d>\n",
            "NOTE: %mprun can only be used on functions defined in physical files, and not in the IPython environment.\n",
            "Sorting 10000 elements took 0.417102 seconds\n"
          ]
        }
      ]
    },
    {
      "cell_type": "markdown",
      "source": [
        "## How to Run the Code\n",
        "\n",
        "1. **Install Memory Profiler**: You need to have the `memory_profiler` module installed. You can install it using `pip install memory_profiler`.\n",
        "2. **Run the Script**: Execute the script. If you're running from a command line, you can use `python -m memory_profiler your_script_name.py` to get the memory usage details.\n",
        "\n",
        "This script provides a simple demonstration of the quicksort algorithm in action, including how long it takes to sort an array of 10,000 random integers and how much memory it consumes during execution."
      ],
      "metadata": {
        "id": "IIj2RJJ5dMgr"
      }
    },
    {
      "cell_type": "markdown",
      "source": [
        "## Another example"
      ],
      "metadata": {
        "id": "rdnBool9d3B_"
      }
    },
    {
      "cell_type": "code",
      "source": [
        "# Example array\n",
        "numbers = [34, 7, 23, 32, 5, 62, 78, 45, 10]\n",
        "\n",
        "# Sorting the array\n",
        "sorted_numbers = quicksort(numbers)\n",
        "print(\"Sorted array:\", sorted_numbers)"
      ],
      "metadata": {
        "colab": {
          "base_uri": "https://localhost:8080/"
        },
        "id": "lYg5irJwdM9S",
        "outputId": "3a87cf01-a8f3-41a6-8a23-4221fc36a6e0"
      },
      "execution_count": 18,
      "outputs": [
        {
          "output_type": "stream",
          "name": "stdout",
          "text": [
            "Sorted array: [5, 7, 10, 23, 32, 34, 45, 62, 78]\n"
          ]
        }
      ]
    },
    {
      "cell_type": "markdown",
      "source": [
        "## Conclusion\n",
        "\n",
        "Quicksort is a powerful and efficient sorting algorithm well-suited for large datasets due to its average-case time complexity of $O(n \\log n)$ and its in-place sorting mechanism, which minimizes memory overhead. While it excels in average and best-case scenarios, its performance can degrade to $O(n^2)$ in the worst-case, particularly when the smallest or largest elements are consistently chosen as pivots. By implementing random pivot selection or other strategies, this downside can be mitigated.\n",
        "\n",
        "In practical applications, quicksort is often preferred for its speed and space efficiency compared to other sorting algorithms like merge sort or heap sort. The provided Python implementation, along with performance measurement, illustrates not only how to implement quicksort but also how to assess its runtime and memory usage, making it a useful exercise for understanding both algorithm design and performance evaluation. This blend of theory and practical assessment helps in choosing the right sorting algorithm based on the specific needs and constraints of a project."
      ],
      "metadata": {
        "id": "NIT4XtYheLSe"
      }
    }
  ]
}