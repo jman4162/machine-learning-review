{
  "nbformat": 4,
  "nbformat_minor": 0,
  "metadata": {
    "colab": {
      "provenance": [],
      "authorship_tag": "ABX9TyMo9TpsLWaOSknM0am3Loqv",
      "include_colab_link": true
    },
    "kernelspec": {
      "name": "python3",
      "display_name": "Python 3"
    },
    "language_info": {
      "name": "python"
    }
  },
  "cells": [
    {
      "cell_type": "markdown",
      "metadata": {
        "id": "view-in-github",
        "colab_type": "text"
      },
      "source": [
        "<a href=\"https://colab.research.google.com/github/jman4162/machine-learning-review/blob/main/Python_Profiling_with_%60cProfile%60_A_Comprehensive_Guide.ipynb\" target=\"_parent\"><img src=\"https://colab.research.google.com/assets/colab-badge.svg\" alt=\"Open In Colab\"/></a>"
      ]
    },
    {
      "cell_type": "markdown",
      "source": [
        "# Python Profiling with `cProfile`: A Comprehensive Guide\n",
        "\n",
        "Name: John Hodge\n",
        "\n",
        "Date: 05/10/24"
      ],
      "metadata": {
        "id": "8tdMVP2alJor"
      }
    },
    {
      "cell_type": "markdown",
      "source": [
        "## Introduction\n",
        "\n",
        "Profiling is an essential part of optimizing code. It allows you to understand where your program spends most of its time and which functions are called frequently. Python provides a built-in profiler called `cProfile`, which can help you gather this information. This tutorial will walk you through how to use `cProfile` and demonstrate its capabilities with examples, including nested for loops."
      ],
      "metadata": {
        "id": "9EfnqS04m3Jm"
      }
    },
    {
      "cell_type": "markdown",
      "source": [
        "## Installing cProfile\n",
        "\n",
        "`cProfile` is included in the Python Standard Library, so you don't need to install it separately. You can import and use it directly.\n"
      ],
      "metadata": {
        "id": "ooQ5ORialSqG"
      }
    },
    {
      "cell_type": "code",
      "source": [
        "import cProfile\n",
        "import pstats"
      ],
      "metadata": {
        "id": "B6vkK30FlEv4"
      },
      "execution_count": 12,
      "outputs": []
    },
    {
      "cell_type": "markdown",
      "source": [
        "## Basic Usage of `cProfile`\n",
        "\n",
        "Here's a simple example to get started:"
      ],
      "metadata": {
        "id": "Pw8hRXOomLE7"
      }
    },
    {
      "cell_type": "code",
      "execution_count": 13,
      "metadata": {
        "id": "TNCAW3quk_Rw"
      },
      "outputs": [],
      "source": [
        "def example_function():\n",
        "    total = 0\n",
        "    for i in range(1000):\n",
        "        for j in range(1000):\n",
        "            total += i * j\n",
        "    return total"
      ]
    },
    {
      "cell_type": "code",
      "source": [
        "if __name__ == \"__main__\":\n",
        "    cProfile.run('example_function()')"
      ],
      "metadata": {
        "colab": {
          "base_uri": "https://localhost:8080/"
        },
        "id": "naUV7R2_lC4T",
        "outputId": "c03d50ca-83cd-4945-8b2a-d527380ca9b7"
      },
      "execution_count": 14,
      "outputs": [
        {
          "output_type": "stream",
          "name": "stdout",
          "text": [
            "         4 function calls in 0.131 seconds\n",
            "\n",
            "   Ordered by: standard name\n",
            "\n",
            "   ncalls  tottime  percall  cumtime  percall filename:lineno(function)\n",
            "        1    0.131    0.131    0.131    0.131 <ipython-input-13-1423a9be08a5>:1(example_function)\n",
            "        1    0.000    0.000    0.131    0.131 <string>:1(<module>)\n",
            "        1    0.000    0.000    0.131    0.131 {built-in method builtins.exec}\n",
            "        1    0.000    0.000    0.000    0.000 {method 'disable' of '_lsprof.Profiler' objects}\n",
            "\n",
            "\n"
          ]
        }
      ]
    },
    {
      "cell_type": "markdown",
      "source": [
        "Running this script will produce a detailed report on the performance of `example_function`.\n",
        "\n",
        "## Interpreting the Output\n",
        "\n",
        "The output of `cProfile` looks something like this:\n",
        "\n",
        "```\n",
        "         1000004 function calls in 0.283 seconds\n",
        "\n",
        "   Ordered by: standard name\n",
        "\n",
        "   ncalls  tottime  percall  cumtime  percall filename:lineno(function)\n",
        "        1    0.000    0.000    0.283    0.283 <ipython-input-5-4e8e2fdf6e43>:3(example_function)\n",
        "  1000000    0.282    0.000    0.282    0.000 <ipython-input-5-4e8e2fdf6e43>:6(<genexpr>)\n",
        "        1    0.000    0.000    0.283    0.283 {built-in method builtins.exec}\n",
        "        1    0.000    0.000    0.283    0.283 {built-in method builtins.run}\n",
        "```\n",
        "\n",
        "- `ncalls`: Number of calls to the function\n",
        "- `tottime`: Total time spent in the function (excluding sub-functions)\n",
        "- `percall`: Time spent per call (tottime/ncalls)\n",
        "- `cumtime`: Cumulative time spent in the function (including sub-functions)\n",
        "- `percall`: Time spent per call (cumtime/ncalls)\n",
        "- `filename:lineno(function)`: Location of the function in the code\n",
        "\n",
        "## Example with Nested For Loops\n",
        "\n",
        "Let's create a more complex example with nested for loops to see how `cProfile` handles them."
      ],
      "metadata": {
        "id": "-O1vaKuylbpG"
      }
    },
    {
      "cell_type": "code",
      "source": [
        "def compute_sum(n):\n",
        "    total = 0\n",
        "    for i in range(n):\n",
        "        for j in range(n):\n",
        "            total += i * j\n",
        "    return total\n",
        "\n",
        "def main():\n",
        "    n = 1000\n",
        "    result = compute_sum(n)\n",
        "    print(f\"Result: {result}\")\n",
        "\n",
        "if __name__ == \"__main__\":\n",
        "    cProfile.run('main()')"
      ],
      "metadata": {
        "colab": {
          "base_uri": "https://localhost:8080/"
        },
        "id": "JDD0jgsqmB1G",
        "outputId": "699e5290-2e27-4a6e-bcaa-d946feac7a15"
      },
      "execution_count": 15,
      "outputs": [
        {
          "output_type": "stream",
          "name": "stdout",
          "text": [
            "Result: 249500250000\n",
            "         40 function calls in 0.136 seconds\n",
            "\n",
            "   Ordered by: standard name\n",
            "\n",
            "   ncalls  tottime  percall  cumtime  percall filename:lineno(function)\n",
            "        1    0.135    0.135    0.135    0.135 <ipython-input-15-9585d42a0580>:1(compute_sum)\n",
            "        1    0.000    0.000    0.136    0.136 <ipython-input-15-9585d42a0580>:8(main)\n",
            "        1    0.000    0.000    0.136    0.136 <string>:1(<module>)\n",
            "        3    0.000    0.000    0.001    0.000 iostream.py:195(schedule)\n",
            "        2    0.000    0.000    0.000    0.000 iostream.py:308(_is_master_process)\n",
            "        2    0.000    0.000    0.000    0.000 iostream.py:321(_schedule_flush)\n",
            "        2    0.000    0.000    0.001    0.001 iostream.py:384(write)\n",
            "        3    0.000    0.000    0.000    0.000 iostream.py:91(_event_pipe)\n",
            "        3    0.001    0.000    0.001    0.000 socket.py:545(send)\n",
            "        3    0.000    0.000    0.000    0.000 threading.py:1102(_wait_for_tstate_lock)\n",
            "        3    0.000    0.000    0.000    0.000 threading.py:1169(is_alive)\n",
            "        3    0.000    0.000    0.000    0.000 threading.py:553(is_set)\n",
            "        1    0.000    0.000    0.136    0.136 {built-in method builtins.exec}\n",
            "        2    0.000    0.000    0.000    0.000 {built-in method builtins.isinstance}\n",
            "        1    0.000    0.000    0.001    0.001 {built-in method builtins.print}\n",
            "        2    0.000    0.000    0.000    0.000 {built-in method posix.getpid}\n",
            "        3    0.000    0.000    0.000    0.000 {method 'acquire' of '_thread.lock' objects}\n",
            "        3    0.000    0.000    0.000    0.000 {method 'append' of 'collections.deque' objects}\n",
            "        1    0.000    0.000    0.000    0.000 {method 'disable' of '_lsprof.Profiler' objects}\n",
            "\n",
            "\n"
          ]
        }
      ]
    },
    {
      "cell_type": "markdown",
      "source": [
        "Running this script will profile both `main` and `compute_sum` functions, giving you insights into their performance.\n",
        "\n",
        "## Advanced Profiling and Saving Results\n",
        "\n",
        "You can also save the profiling results to a file and analyze them later using the `pstats` module."
      ],
      "metadata": {
        "id": "Q_6ERANjliJO"
      }
    },
    {
      "cell_type": "code",
      "source": [
        "def compute_sum(n):\n",
        "    total = 0\n",
        "    for i in range(n):\n",
        "        for j in range(n):\n",
        "            total += i * j\n",
        "    return total\n",
        "\n",
        "def main():\n",
        "    n = 1000\n",
        "    result = compute_sum(n)\n",
        "    print(f\"Result: {result}\")\n",
        "\n",
        "if __name__ == \"__main__\":\n",
        "    profiler = cProfile.Profile()\n",
        "    profiler.enable()\n",
        "    main()\n",
        "    profiler.disable()\n",
        "    profiler.dump_stats(\"profile_output.prof\")\n",
        "\n",
        "    # To analyze the results\n",
        "    stats = pstats.Stats(\"profile_output.prof\")\n",
        "    stats.strip_dirs()\n",
        "    stats.sort_stats(pstats.SortKey.TIME)\n",
        "    stats.print_stats(10)  # Print the top 10 results"
      ],
      "metadata": {
        "colab": {
          "base_uri": "https://localhost:8080/"
        },
        "id": "s2bhm8aMlbQM",
        "outputId": "b0387bc5-2df5-4f6d-f4b6-53ee8482651b"
      },
      "execution_count": 16,
      "outputs": [
        {
          "output_type": "stream",
          "name": "stdout",
          "text": [
            "Result: 249500250000\n",
            "Thu May 16 04:14:10 2024    profile_output.prof\n",
            "\n",
            "         38 function calls in 0.136 seconds\n",
            "\n",
            "   Ordered by: internal time\n",
            "   List reduced from 17 to 10 due to restriction <10>\n",
            "\n",
            "   ncalls  tottime  percall  cumtime  percall filename:lineno(function)\n",
            "        1    0.135    0.135    0.135    0.135 <ipython-input-16-dcc96c2137e4>:1(compute_sum)\n",
            "        3    0.001    0.000    0.001    0.000 socket.py:545(send)\n",
            "        3    0.000    0.000    0.001    0.000 iostream.py:195(schedule)\n",
            "        2    0.000    0.000    0.001    0.000 iostream.py:384(write)\n",
            "        1    0.000    0.000    0.136    0.136 <ipython-input-16-dcc96c2137e4>:8(main)\n",
            "        3    0.000    0.000    0.000    0.000 threading.py:1169(is_alive)\n",
            "        1    0.000    0.000    0.001    0.001 {built-in method builtins.print}\n",
            "        3    0.000    0.000    0.000    0.000 threading.py:1102(_wait_for_tstate_lock)\n",
            "        2    0.000    0.000    0.000    0.000 iostream.py:308(_is_master_process)\n",
            "        3    0.000    0.000    0.000    0.000 iostream.py:91(_event_pipe)\n",
            "\n",
            "\n"
          ]
        }
      ]
    },
    {
      "cell_type": "markdown",
      "source": [
        "## Interpreting Advanced Results\n",
        "\n",
        "The `pstats` module allows for more detailed analysis and sorting of profiling results. For example:\n",
        "\n",
        "- `strip_dirs()`: Strips directory names from the filenames in the report\n",
        "- `sort_stats()`: Sorts the result by the specified criteria (`TIME`, `CUMULATIVE`, etc.)\n",
        "- `print_stats(10)`: Prints the top 10 results\n",
        "\n",
        "## Optimizing Based on Profiling\n",
        "\n",
        "After identifying the slow parts of your code, you can start optimizing. For instance, you might find that certain nested loops or function calls are taking up most of the time. Refactor these parts of your code to improve performance.\n",
        "\n",
        "### Example Optimization\n",
        "\n",
        "In the `compute_sum` function, we might optimize by reducing the complexity:"
      ],
      "metadata": {
        "id": "CJcjj8pBlrKQ"
      }
    },
    {
      "cell_type": "code",
      "source": [
        "def compute_sum_optimized(n):\n",
        "    return sum(i * j for i in range(n) for j in range(n))"
      ],
      "metadata": {
        "id": "sEs9bQPRlule"
      },
      "execution_count": 17,
      "outputs": []
    },
    {
      "cell_type": "markdown",
      "source": [
        "Re-run the profiling to compare the performance before and after optimization."
      ],
      "metadata": {
        "id": "dyehgrK0lvCC"
      }
    },
    {
      "cell_type": "code",
      "source": [
        "def main():\n",
        "    n = 1000\n",
        "    result = compute_sum_optimized(n)\n",
        "    print(f\"Result: {result}\")\n",
        "\n",
        "if __name__ == \"__main__\":\n",
        "    profiler = cProfile.Profile()\n",
        "    profiler.enable()\n",
        "    main()\n",
        "    profiler.disable()\n",
        "    profiler.dump_stats(\"profile_output_optimized.prof\")\n",
        "\n",
        "    # To analyze the results\n",
        "    stats = pstats.Stats(\"profile_output_optimized.prof\")\n",
        "    stats.strip_dirs()\n",
        "    stats.sort_stats(pstats.SortKey.TIME)\n",
        "    stats.print_stats(10)"
      ],
      "metadata": {
        "colab": {
          "base_uri": "https://localhost:8080/"
        },
        "id": "-hHBDYYPlyo_",
        "outputId": "20fd9204-6a28-4ad6-b32d-23907fc39214"
      },
      "execution_count": 18,
      "outputs": [
        {
          "output_type": "stream",
          "name": "stdout",
          "text": [
            "Result: 249500250000\n",
            "Thu May 16 04:14:10 2024    profile_output_optimized.prof\n",
            "\n",
            "         1000040 function calls in 0.300 seconds\n",
            "\n",
            "   Ordered by: internal time\n",
            "   List reduced from 19 to 10 due to restriction <10>\n",
            "\n",
            "   ncalls  tottime  percall  cumtime  percall filename:lineno(function)\n",
            "  1000001    0.180    0.000    0.180    0.000 <ipython-input-17-25b09a97037b>:2(<genexpr>)\n",
            "        1    0.119    0.119    0.299    0.299 {built-in method builtins.sum}\n",
            "        3    0.001    0.000    0.001    0.000 socket.py:545(send)\n",
            "        3    0.000    0.000    0.001    0.000 iostream.py:195(schedule)\n",
            "        2    0.000    0.000    0.001    0.000 iostream.py:384(write)\n",
            "        1    0.000    0.000    0.300    0.300 <ipython-input-18-7ca9093ccb88>:1(main)\n",
            "        1    0.000    0.000    0.001    0.001 {built-in method builtins.print}\n",
            "        3    0.000    0.000    0.000    0.000 threading.py:1169(is_alive)\n",
            "        3    0.000    0.000    0.000    0.000 threading.py:1102(_wait_for_tstate_lock)\n",
            "        1    0.000    0.000    0.299    0.299 <ipython-input-17-25b09a97037b>:1(compute_sum_optimized)\n",
            "\n",
            "\n"
          ]
        }
      ]
    },
    {
      "cell_type": "markdown",
      "source": [
        "## Conclusion\n",
        "\n",
        "Using `cProfile`, you can gain valuable insights into your code's performance and identify bottlenecks. This allows you to focus your optimization efforts where they matter most. Profiling is a critical step in developing efficient and scalable Python applications.\n",
        "\n",
        "Happy profiling and optimizing!"
      ],
      "metadata": {
        "id": "6xZhdvvvlzFK"
      }
    }
  ]
}