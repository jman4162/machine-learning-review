{
  "nbformat": 4,
  "nbformat_minor": 0,
  "metadata": {
    "colab": {
      "provenance": [],
      "authorship_tag": "ABX9TyOjvu7cYKTTNfyu29ii+g/k",
      "include_colab_link": true
    },
    "kernelspec": {
      "name": "python3",
      "display_name": "Python 3"
    },
    "language_info": {
      "name": "python"
    }
  },
  "cells": [
    {
      "cell_type": "markdown",
      "metadata": {
        "id": "view-in-github",
        "colab_type": "text"
      },
      "source": [
        "<a href=\"https://colab.research.google.com/github/jman4162/machine-learning-review/blob/main/Merge_Sort_Algorithm_Tutorial_in_Python.ipynb\" target=\"_parent\"><img src=\"https://colab.research.google.com/assets/colab-badge.svg\" alt=\"Open In Colab\"/></a>"
      ]
    },
    {
      "cell_type": "markdown",
      "source": [
        "# Merge Sort Algorithm Tutorial in Python\n",
        "\n",
        "Name: John Hodge\n",
        "\n",
        "Date: 05/12/24\n",
        "\n",
        "Merge sort is a divide-and-conquer algorithm that divides the input array into two halves, sorts the halves, and then merges them back together. It's known for its efficient and stable sorting capabilities, with a time complexity of $ O(n \\log n) $.\n",
        "\n"
      ],
      "metadata": {
        "id": "QPYm8TogZjmc"
      }
    },
    {
      "cell_type": "markdown",
      "source": [
        "### Introduction to Merge Sort\n",
        "\n",
        "Merge Sort is a fundamental divide-and-conquer sorting algorithm that was invented by John von Neumann in 1945. This algorithm divides the unsorted list into \\( $N$ \\) sublists, each containing one element (a list of one element is considered sorted), then repeatedly merges sublists to produce new sorted sublists until there is only one sublist remaining. This will be the sorted list.\n",
        "\n",
        "#### How Merge Sort Works\n",
        "\n",
        "1. **Divide**: Split the array into two halves until each subarray contains a single element.\n",
        "2. **Conquer**: Sort each half recursively by re-applying merge sort.\n",
        "3. **Combine**: Merge the sorted halves into a single sorted array.\n",
        "\n",
        "The merging process itself involves comparing the elements of the subarrays and combining them in a sorted manner. This step is crucial and ensures that the emerging array is sorted.\n",
        "\n",
        "#### Visual Explanation\n",
        "\n",
        "Suppose we have an array: $[38, 27, 43, 3, 9, 82, 10]$. Merge sort would process it as follows:\n",
        "\n",
        "- Divide: Split into $ [38, 27, 43, 3]$  and $[9, 82, 10]$.\n",
        "- Each of these is split again until only single-element arrays remain.\n",
        "- Conquer by merging:\n",
        "  - $[38]$ with $[27]$ becomes $[27, 38]$.\n",
        "  - $[43]$ with $[3]$ becomes $[3, 43]$, and so on.\n",
        "- Combine: Merge $[27, 38]$ and $[3, 43]$ to form $[3, 27, 38, 43]$ and similarly for the other half.\n",
        "\n",
        "Finally, the two halves are merged into a sorted array.\n",
        "\n",
        "#### Advantages of Merge Sort\n",
        "\n",
        "- **Stable Sorting**: Merge sort does not change the relative order of elements with equal keys. This property is important for sorting data that is already somewhat sorted or has additional sorting criteria.\n",
        "- **Predictable Time Complexity**: Always runs in $O(n \\log n)$ time, making its performance easily predictable, which is valuable for real-time applications.\n",
        "- **Efficient for Large Data Sets**: Particularly effective at handling slow-to-access sequential media and large data sets.\n",
        "\n",
        "#### Disadvantages of Merge Sort\n",
        "\n",
        "- **Space Efficiency**: Requires additional space proportional to the array being sorted (i.e., $O(n)$), which can be a drawback for memory-limited systems.\n",
        "- **Slower for Small Tasks**: Due to the overhead of recursive function calls and array slicing, merge sort can be slower than other algorithms like insertion sort on small lists.\n",
        "- **Not Adaptive**: The runtime does not change based on the initial order of input. Other algorithms, like insertion sort, can perform better on nearly sorted data.\n",
        "\n",
        "#### Comparison with Other Sorting Algorithms\n",
        "\n",
        "- **Quick Sort**: Quick sort generally has similar time complexity but has a better space complexity since it sorts in-place. However, it's not stable and its worst-case time complexity is $O(n^2)$, although this is rare with good pivot selection.\n",
        "- **Insertion Sort**: Better for small or nearly sorted datasets due to its adaptive nature, but inefficient for larger datasets with $O(n^2)$ time complexity.\n",
        "- **Heap Sort**: Like merge sort, heap sort has $O(n \\log n)$ time complexity and sorts in-place but is not stable.\n",
        "\n",
        "### Conclusion\n",
        "\n",
        "Merge sort is highly effective for large datasets and where stability is crucial, such as in database algorithms that need to maintain large volumes of records in order. Understanding its characteristics compared to other sorting algorithms helps in choosing the right sorting algorithm based on specific needs."
      ],
      "metadata": {
        "id": "xJu21-efbfif"
      }
    },
    {
      "cell_type": "markdown",
      "source": [
        "# Initialize environment"
      ],
      "metadata": {
        "id": "U1aV98krbbib"
      }
    },
    {
      "cell_type": "code",
      "source": [
        "import time\n",
        "import tracemalloc"
      ],
      "metadata": {
        "id": "TFi_xJWVZwh6"
      },
      "execution_count": 10,
      "outputs": []
    },
    {
      "cell_type": "markdown",
      "source": [
        "## Step 1: Understanding the Merge Function\n",
        "The merge function is used to merge two halves of an array. It takes two sorted subarrays and combines them into a single sorted array."
      ],
      "metadata": {
        "id": "n15h9l7CZpmd"
      }
    },
    {
      "cell_type": "code",
      "execution_count": 11,
      "metadata": {
        "id": "Gjds-MCjZi12"
      },
      "outputs": [],
      "source": [
        "def merge(left, right):\n",
        "    sorted_list = []\n",
        "    left_index, right_index = 0, 0\n",
        "\n",
        "    # Compare each element of the left and right subarrays and add the smaller element to the sorted_list\n",
        "    while left_index < len(left) and right_index < len(right):\n",
        "        if left[left_index] < right[right_index]:\n",
        "            sorted_list.append(left[left_index])\n",
        "            left_index += 1\n",
        "        else:\n",
        "            sorted_list.append(right[right_index])\n",
        "            right_index += 1\n",
        "\n",
        "    # Append the remaining elements of left (if any)\n",
        "    while left_index < len(left):\n",
        "        sorted_list.append(left[left_index])\n",
        "        left_index += 1\n",
        "\n",
        "    # Append the remaining elements of right (if any)\n",
        "    while right_index < len(right):\n",
        "        sorted_list.append(right[right_index])\n",
        "        right_index += 1\n",
        "\n",
        "    return sorted_list"
      ]
    },
    {
      "cell_type": "markdown",
      "source": [
        "# Step 2: The Merge Sort Function\n",
        "\n",
        "The merge sort function recursively splits the array into halves until the subarrays are small enough to be considered sorted (typically when they are of length 1)."
      ],
      "metadata": {
        "id": "m2sb1kCra44V"
      }
    },
    {
      "cell_type": "code",
      "source": [
        "def merge_sort(array):\n",
        "    if len(array) <= 1:\n",
        "        return array\n",
        "\n",
        "    # Divide the array into left and right halves\n",
        "    mid_point = len(array) // 2\n",
        "    left_half = merge_sort(array[:mid_point])\n",
        "    right_half = merge_sort(array[mid_point:])\n",
        "\n",
        "    # Merge the sorted halves\n",
        "    return merge(left_half, right_half)\n"
      ],
      "metadata": {
        "id": "XtPMs2R-Z6cQ"
      },
      "execution_count": 12,
      "outputs": []
    },
    {
      "cell_type": "markdown",
      "source": [
        "# Step 3: Using the Merge Sort Function\n",
        "\n",
        "Now, you can use the merge_sort function to sort an array of numbers."
      ],
      "metadata": {
        "id": "1iQwLtO8a8B3"
      }
    },
    {
      "cell_type": "code",
      "source": [
        "# Example array\n",
        "numbers = [34, 7, 23, 32, 5, 62, 78, 45, 10]\n",
        "\n",
        "# Sorting the array\n",
        "sorted_numbers = merge_sort(numbers)\n",
        "print(\"Sorted array:\", sorted_numbers)"
      ],
      "metadata": {
        "colab": {
          "base_uri": "https://localhost:8080/"
        },
        "id": "rwQVE-ZQZ8EY",
        "outputId": "a5e03fa6-de6f-4fff-ffb5-dd270bc3e3a8"
      },
      "execution_count": 13,
      "outputs": [
        {
          "output_type": "stream",
          "name": "stdout",
          "text": [
            "Sorted array: [5, 7, 10, 23, 32, 34, 45, 62, 78]\n"
          ]
        }
      ]
    },
    {
      "cell_type": "markdown",
      "source": [
        "# Step 4: Measure run-time and memory usage performance\n",
        "\n",
        "Use this setup to compare the performance of merge sort with other sorting algorithms or to optimize the merge sort algorithm itself."
      ],
      "metadata": {
        "id": "ifLey6YfaQgk"
      }
    },
    {
      "cell_type": "code",
      "source": [
        "def measure_performance(data):\n",
        "    # Start tracking memory allocation\n",
        "    tracemalloc.start()\n",
        "\n",
        "    # Record start time\n",
        "    start_time = time.perf_counter()\n",
        "\n",
        "    # Perform the merge sort\n",
        "    sorted_data = merge_sort(data)\n",
        "\n",
        "    # Record end time\n",
        "    end_time = time.perf_counter()\n",
        "\n",
        "    # Get memory usage information\n",
        "    current, peak = tracemalloc.get_traced_memory()\n",
        "    tracemalloc.stop()\n",
        "\n",
        "    # Print results\n",
        "    print(f\"Sorted array: {sorted_data}\")\n",
        "    print(f\"Time taken: {end_time - start_time:.6f} seconds\")\n",
        "    print(f\"Memory usage: Current = {current / 1024:.2f} KB; Peak = {peak / 1024:.2f} KB\")\n"
      ],
      "metadata": {
        "id": "3Yk3kB8DaJY5"
      },
      "execution_count": 14,
      "outputs": []
    },
    {
      "cell_type": "code",
      "source": [
        "# Measure the performance of merge sort\n",
        "measure_performance(numbers)"
      ],
      "metadata": {
        "colab": {
          "base_uri": "https://localhost:8080/"
        },
        "id": "E6s1S_pCaLBT",
        "outputId": "e7e6ad98-d857-46d0-d63d-16f602418f82"
      },
      "execution_count": 15,
      "outputs": [
        {
          "output_type": "stream",
          "name": "stdout",
          "text": [
            "Sorted array: [5, 7, 10, 23, 32, 34, 45, 62, 78]\n",
            "Time taken: 0.000099 seconds\n",
            "Memory usage: Current = 1.41 KB; Peak = 1.51 KB\n"
          ]
        }
      ]
    },
    {
      "cell_type": "markdown",
      "source": [
        "# Conclusion\n",
        "\n",
        "This tutorial introduced the merge sort algorithm implemented in Python. By understanding how to merge two sorted subarrays and recursively sort an array, you can apply these principles to various data sorting tasks."
      ],
      "metadata": {
        "id": "DcFjuFZEaBiK"
      }
    }
  ]
}